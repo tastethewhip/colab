{
  "nbformat": 4,
  "nbformat_minor": 0,
  "metadata": {
    "colab": {
      "provenance": [],
      "authorship_tag": "ABX9TyOu+gjnTyqHyA2oUssiBjKp",
      "include_colab_link": true
    },
    "kernelspec": {
      "name": "python3",
      "display_name": "Python 3"
    },
    "language_info": {
      "name": "python"
    }
  },
  "cells": [
    {
      "cell_type": "markdown",
      "metadata": {
        "id": "view-in-github",
        "colab_type": "text"
      },
      "source": [
        "<a href=\"https://colab.research.google.com/github/tastethewhip/colab/blob/main/regex.ipynb\" target=\"_parent\"><img src=\"https://colab.research.google.com/assets/colab-badge.svg\" alt=\"Open In Colab\"/></a>"
      ]
    },
    {
      "cell_type": "code",
      "execution_count": null,
      "metadata": {
        "colab": {
          "base_uri": "https://localhost:8080/"
        },
        "id": "9paE-7L2O7jL",
        "outputId": "b07bb1e4-3e59-40dc-d6d3-8facfe8dd963"
      },
      "outputs": [
        {
          "output_type": "stream",
          "name": "stdout",
          "text": [
            "           text         uber\n",
            "1  banana split  sponge cake\n"
          ]
        }
      ],
      "source": [
        "import pandas as pd\n",
        "\n",
        "# Sample DataFrame\n",
        "df = pd.DataFrame({\n",
        "    'text': ['apple pie', 'banana split', 'cherry tart', 'pineapple', 'grape'],\n",
        "    'uber': ['gateau', 'sponge cake', 'rhubarb & custard', 'pinecones', 'wine']\n",
        "})\n",
        "\n",
        "# Regex pattern for partial match (e.g., any entry containing 'apple')\n",
        "pattern = 'onge'\n",
        "\n",
        "# Find rows where 'text' column contains the pattern\n",
        "matches = df[df['uber'].str.contains(pattern, regex=True)]\n",
        "\n",
        "print(matches)"
      ]
    },
    {
      "cell_type": "code",
      "source": [
        "import pandas as pd\n",
        "\n",
        "# Sample DataFrame\n",
        "df = pd.DataFrame({\n",
        "    'text': ['apple pie', 'banana split', 'cherry tart', 'pineapple', 'grape']\n",
        "})\n",
        "\n",
        "# Regex pattern for partial match (e.g., any entry containing 'apple')\n",
        "\n",
        "\n",
        "pattern = 'apple|grape'\n",
        "matches = df[df['text'].str.contains(pattern, regex=True)]\n",
        "\n",
        "print(matches)"
      ],
      "metadata": {
        "colab": {
          "base_uri": "https://localhost:8080/"
        },
        "id": "3qBdI7odPM6b",
        "outputId": "4315bec6-5045-44bb-8b5a-da882b94515f"
      },
      "execution_count": null,
      "outputs": [
        {
          "output_type": "stream",
          "name": "stdout",
          "text": [
            "        text\n",
            "0  apple pie\n",
            "3  pineapple\n",
            "4      grape\n"
          ]
        }
      ]
    },
    {
      "cell_type": "code",
      "source": [
        "import pandas as pd\n",
        "\n",
        "# Sample DataFrame\n",
        "df = pd.DataFrame({\n",
        "    'text': ['apple pie', 'banana split', 'cherry tart', 'pineapple', 'grape']\n",
        "})\n",
        "\n",
        "# Regex pattern for partial match (e.g., any entry containing 'apple')\n",
        "pattern = 'appl'\n",
        "\n",
        "matches = df[df['text'].str.contains(pattern, regex=True, na=False, case=False)]\n",
        "\n",
        "print(matches)"
      ],
      "metadata": {
        "colab": {
          "base_uri": "https://localhost:8080/"
        },
        "id": "_KDpIs-BPTSi",
        "outputId": "3c85c906-4625-4039-9aea-296dbac948b4"
      },
      "execution_count": null,
      "outputs": [
        {
          "output_type": "stream",
          "name": "stdout",
          "text": [
            "        text\n",
            "0  apple pie\n",
            "3  pineapple\n"
          ]
        }
      ]
    }
  ]
}